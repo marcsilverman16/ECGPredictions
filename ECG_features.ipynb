{
  "cells": [
    {
      "cell_type": "markdown",
      "metadata": {
        "id": "aJF4UxCEtsIq"
      },
      "source": [
        "## Importing Libraries ##"
      ]
    },
    {
      "cell_type": "code",
      "execution_count": 1,
      "metadata": {
        "id": "oGzTAr3V-QYd"
      },
      "outputs": [],
      "source": [
        "import numpy as np\n",
        "import scipy\n",
        "import statistics\n",
        "import neurokit2 as nk\n",
        "from scipy.signal import find_peaks\n",
        "import neurokit2 as nk\n",
        "import matplotlib.pyplot as plt\n",
        "import math"
      ]
    },
    {
      "cell_type": "markdown",
      "metadata": {
        "id": "8Ed6svoxuMEM"
      },
      "source": [
        "##Loading ECG Signal##"
      ]
    },
    {
      "cell_type": "code",
      "execution_count": 93,
      "metadata": {
        "id": "o-1Z-2dbAYA-"
      },
      "outputs": [],
      "source": [
        "heart_data = scipy.io.loadmat('JS00002.mat')['val']"
      ]
    },
    {
      "cell_type": "code",
      "execution_count": 94,
      "metadata": {
        "colab": {
          "base_uri": "https://localhost:8080/"
        },
        "id": "-72Zia-Gusve",
        "outputId": "fb15bcf9-85fa-4854-d205-a0bf148bf009"
      },
      "outputs": [
        {
          "name": "stdout",
          "output_type": "stream",
          "text": [
            "(12, 5000)\n"
          ]
        }
      ],
      "source": [
        "print(heart_data.shape)"
      ]
    },
    {
      "cell_type": "markdown",
      "metadata": {
        "id": "PeACKnPsuP-f"
      },
      "source": [
        "## Extracting points of importance from ECG signal##"
      ]
    },
    {
      "cell_type": "code",
      "execution_count": 95,
      "metadata": {
        "id": "hdUrkp7EIpKg"
      },
      "outputs": [],
      "source": [
        "class ECGExtractor():\n",
        "  def __init__(self, heart_signal, sampling_rate = 500, missing_values = False):\n",
        "    self.heart_signal = heart_signal\n",
        "    self.sampling_rate = sampling_rate\n",
        "    _, self.rpeaks = nk.ecg_peaks(self.heart_signal, sampling_rate=self.sampling_rate)\n",
        "    self.rpeaks = self.rpeaks['ECG_R_Peaks']\n",
        "    _, waves_peak = nk.ecg_delineate(self.heart_signal, self.rpeaks, sampling_rate=self.sampling_rate, method=\"peak\")\n",
        "    self.ppeaks = waves_peak['ECG_P_Peaks']\n",
        "    self.qpeaks = waves_peak['ECG_Q_Peaks']\n",
        "    self.speaks = waves_peak['ECG_S_Peaks']\n",
        "    self.tpeaks = waves_peak['ECG_T_Peaks']\n",
        "    self.missing_values = missing_values\n",
        "\n",
        "    dx = [self.rpeaks[i+1] - self.rpeaks[i] for i in range(len(self.rpeaks)-1)]\n",
        "    if(len(self.rpeaks) == 1):\n",
        "      self.heart_beat = 1000*60/self.rpeaks[0]\n",
        "    else:\n",
        "      self.heart_beat = 1000*60/statistics.harmonic_mean(dx)\n",
        "\n",
        "\n",
        "    if(self.missing_values == False):\n",
        "      for i in range(len(self.rpeaks)):\n",
        "        # Checking for missing Q peaks ---> Find immediate valley just before corresponding R peak\n",
        "\n",
        "        if(math.isnan(self.qpeaks[i])):\n",
        "          qp = self.rpeaks[i]\n",
        "          while(qp > 0 and self.heart_signal[qp] >= self.heart_signal[qp-1]):\n",
        "            qp -= 1\n",
        "\n",
        "          self.qpeaks[i] = qp\n",
        "\n",
        "        if(math.isnan(self.speaks[i])):\n",
        "          # Checking for missing S peaks ---> check for minima in each cycle\n",
        "\n",
        "          s = max(0, self.rpeaks[i] - min(dx)//2)\n",
        "          e = min(self.rpeaks[i] + min(dx)//2 ,self.heart_signal.shape[0])\n",
        "          self.speaks[i] = s + np.argmin(self.heart_signal[s:e])\n",
        "\n",
        "  def calculate_beat(self):\n",
        "    return self.heart_beat\n",
        "\n",
        "  def point_extractor(self, s, e):\n",
        "    d = []\n",
        "    for i in range(len(self.rpeaks)):\n",
        "      if(s < self.rpeaks[i]):\n",
        "        d.append({'peak_id': i, 'P': self.ppeaks[i], 'Q': self.qpeaks[i], 'R': self.rpeaks[i], 'S': self.speaks[i], 'T': self.tpeaks[i]})\n",
        "\n",
        "      if(i+1 < len(self.rpeaks) and e < self.rpeaks[i+1]):\n",
        "        break\n",
        "\n",
        "    return d\n"
      ]
    },
    {
      "cell_type": "markdown",
      "metadata": {
        "id": "KLETSAc7uYkZ"
      },
      "source": [
        "##Sample plot##"
      ]
    },
    {
      "cell_type": "code",
      "execution_count": 96,
      "metadata": {
        "colab": {
          "base_uri": "https://localhost:8080/",
          "height": 469
        },
        "id": "fbFuAVPlHppC",
        "outputId": "84664b93-7a38-4d06-fef2-8c3858690e43"
      },
      "outputs": [
        {
          "data": {
            "text/plain": [
              "[<matplotlib.lines.Line2D at 0x7bcb13b2aaa0>]"
            ]
          },
          "execution_count": 96,
          "metadata": {},
          "output_type": "execute_result"
        },
        {
          "data": {
            "image/png": "[encoded data removed]",
            "text/plain": [
              "<Figure size 640x480 with 1 Axes>"
            ]
          },
          "metadata": {},
          "output_type": "display_data"
        }
      ],
      "source": [
        "s = 3500\n",
        "e = 5000\n",
        "heart_signal = heart_data[4]\n",
        "\n",
        "time = np.arange(s, e)\n",
        "ee = ECGExtractor(heart_signal)\n",
        "plt.title(\"Line graph\")\n",
        "plt.plot(time, heart_signal[s:e], color=\"red\")\n"
      ]
    },
    {
      "cell_type": "markdown",
      "metadata": {
        "id": "1JIg0mJmubFx"
      },
      "source": [
        "##Example##"
      ]
    },
    {
      "cell_type": "code",
      "execution_count": 97,
      "metadata": {
        "colab": {
          "base_uri": "https://localhost:8080/"
        },
        "id": "VI4NBR59tFZv",
        "outputId": "0215dab6-6b7b-48bd-9a23-4baa934ade50"
      },
      "outputs": [
        {
          "name": "stdout",
          "output_type": "stream",
          "text": [
            "3500 5000\n",
            "[{'peak_id': 6, 'P': 3952, 'Q': 3997, 'R': 4010, 'S': 4022, 'T': 4149}, {'peak_id': 7, 'P': nan, 'Q': 4593, 'R': 4600, 'S': 4612, 'T': nan}]\n"
          ]
        }
      ],
      "source": [
        "ee = ECGExtractor(heart_signal)\n",
        "print(s, e)\n",
        "print(ee.point_extractor(s, e))"
      ]
    }
  ],
  "metadata": {
    "colab": {
      "provenance": []
    },
    "kernelspec": {
      "display_name": "Python 3",
      "name": "python3"
    },
    "language_info": {
      "codemirror_mode": {
        "name": "ipython",
        "version": 3
      },
      "file_extension": ".py",
      "mimetype": "text/x-python",
      "name": "python",
      "nbconvert_exporter": "python",
      "pygments_lexer": "ipython3",
      "version": "3.12.2"
    }
  },
  "nbformat": 4,
  "nbformat_minor": 0
}
