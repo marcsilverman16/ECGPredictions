{
 "cells": [
  {
   "cell_type": "code",
   "execution_count": 1,
   "metadata": {},
   "outputs": [
    {
     "ename": "FileNotFoundError",
     "evalue": "[Errno 2] No such file or directory: 'JS00002.mat'",
     "output_type": "error",
     "traceback": [
      "\u001b[0;31m---------------------------------------------------------------------------\u001b[0m",
      "\u001b[0;31mFileNotFoundError\u001b[0m                         Traceback (most recent call last)",
      "File \u001b[0;32m~/bin/mambaforge/envs/cs_7641_group_proj/lib/python3.12/site-packages/scipy/io/matlab/_mio.py:39\u001b[0m, in \u001b[0;36m_open_file\u001b[0;34m(file_like, appendmat, mode)\u001b[0m\n\u001b[1;32m     38\u001b[0m \u001b[38;5;28;01mtry\u001b[39;00m:\n\u001b[0;32m---> 39\u001b[0m     \u001b[38;5;28;01mreturn\u001b[39;00m \u001b[38;5;28;43mopen\u001b[39;49m\u001b[43m(\u001b[49m\u001b[43mfile_like\u001b[49m\u001b[43m,\u001b[49m\u001b[43m \u001b[49m\u001b[43mmode\u001b[49m\u001b[43m)\u001b[49m, \u001b[38;5;28;01mTrue\u001b[39;00m\n\u001b[1;32m     40\u001b[0m \u001b[38;5;28;01mexcept\u001b[39;00m \u001b[38;5;167;01mOSError\u001b[39;00m \u001b[38;5;28;01mas\u001b[39;00m e:\n\u001b[1;32m     41\u001b[0m     \u001b[38;5;66;03m# Probably \"not found\"\u001b[39;00m\n",
      "\u001b[0;31mFileNotFoundError\u001b[0m: [Errno 2] No such file or directory: 'JS00002.mat'",
      "\nDuring handling of the above exception, another exception occurred:\n",
      "\u001b[0;31mFileNotFoundError\u001b[0m                         Traceback (most recent call last)",
      "Cell \u001b[0;32mIn[1], line 1\u001b[0m\n\u001b[0;32m----> 1\u001b[0m \u001b[38;5;28;01mimport\u001b[39;00m \u001b[38;5;21;01mfeature_extraction_with_denoising\u001b[39;00m\n\u001b[1;32m      2\u001b[0m \u001b[38;5;28;01mfrom\u001b[39;00m \u001b[38;5;21;01mpathlib\u001b[39;00m \u001b[38;5;28;01mimport\u001b[39;00m Path\n\u001b[1;32m      4\u001b[0m \u001b[38;5;28;01mimport\u001b[39;00m \u001b[38;5;21;01mpolars\u001b[39;00m \u001b[38;5;28;01mas\u001b[39;00m \u001b[38;5;21;01mpl\u001b[39;00m\n",
      "File \u001b[0;32m~/Documents/schoolwork/cs_7641/cs_7641_group_proj/src/feature_extraction_with_denoising.py:220\u001b[0m\n\u001b[1;32m    218\u001b[0m \u001b[38;5;66;03m# Testing\u001b[39;00m\n\u001b[1;32m    219\u001b[0m file_name \u001b[38;5;241m=\u001b[39m \u001b[38;5;124m'\u001b[39m\u001b[38;5;124mJS00002.mat\u001b[39m\u001b[38;5;124m'\u001b[39m  \u001b[38;5;66;03m# select file\u001b[39;00m\n\u001b[0;32m--> 220\u001b[0m data \u001b[38;5;241m=\u001b[39m \u001b[43mscipy\u001b[49m\u001b[38;5;241;43m.\u001b[39;49m\u001b[43mio\u001b[49m\u001b[38;5;241;43m.\u001b[39;49m\u001b[43mloadmat\u001b[49m\u001b[43m(\u001b[49m\u001b[43mfile_name\u001b[49m\u001b[43m)\u001b[49m\n\u001b[1;32m    221\u001b[0m ecg_data \u001b[38;5;241m=\u001b[39m data[\u001b[38;5;124m'\u001b[39m\u001b[38;5;124mval\u001b[39m\u001b[38;5;124m'\u001b[39m][\u001b[38;5;241m11\u001b[39m, :]  \u001b[38;5;66;03m# select lead\u001b[39;00m\n\u001b[1;32m    223\u001b[0m ecg_extractor \u001b[38;5;241m=\u001b[39m ECGExtractor(ecg_data)\n",
      "File \u001b[0;32m~/bin/mambaforge/envs/cs_7641_group_proj/lib/python3.12/site-packages/scipy/io/matlab/_mio.py:225\u001b[0m, in \u001b[0;36mloadmat\u001b[0;34m(file_name, mdict, appendmat, **kwargs)\u001b[0m\n\u001b[1;32m     88\u001b[0m \u001b[38;5;250m\u001b[39m\u001b[38;5;124;03m\"\"\"\u001b[39;00m\n\u001b[1;32m     89\u001b[0m \u001b[38;5;124;03mLoad MATLAB file.\u001b[39;00m\n\u001b[1;32m     90\u001b[0m \n\u001b[0;32m   (...)\u001b[0m\n\u001b[1;32m    222\u001b[0m \u001b[38;5;124;03m    3.14159265+3.14159265j])\u001b[39;00m\n\u001b[1;32m    223\u001b[0m \u001b[38;5;124;03m\"\"\"\u001b[39;00m\n\u001b[1;32m    224\u001b[0m variable_names \u001b[38;5;241m=\u001b[39m kwargs\u001b[38;5;241m.\u001b[39mpop(\u001b[38;5;124m'\u001b[39m\u001b[38;5;124mvariable_names\u001b[39m\u001b[38;5;124m'\u001b[39m, \u001b[38;5;28;01mNone\u001b[39;00m)\n\u001b[0;32m--> 225\u001b[0m \u001b[43m\u001b[49m\u001b[38;5;28;43;01mwith\u001b[39;49;00m\u001b[43m \u001b[49m\u001b[43m_open_file_context\u001b[49m\u001b[43m(\u001b[49m\u001b[43mfile_name\u001b[49m\u001b[43m,\u001b[49m\u001b[43m \u001b[49m\u001b[43mappendmat\u001b[49m\u001b[43m)\u001b[49m\u001b[43m \u001b[49m\u001b[38;5;28;43;01mas\u001b[39;49;00m\u001b[43m \u001b[49m\u001b[43mf\u001b[49m\u001b[43m:\u001b[49m\n\u001b[1;32m    226\u001b[0m \u001b[43m    \u001b[49m\u001b[43mMR\u001b[49m\u001b[43m,\u001b[49m\u001b[43m \u001b[49m\u001b[43m_\u001b[49m\u001b[43m \u001b[49m\u001b[38;5;241;43m=\u001b[39;49m\u001b[43m \u001b[49m\u001b[43mmat_reader_factory\u001b[49m\u001b[43m(\u001b[49m\u001b[43mf\u001b[49m\u001b[43m,\u001b[49m\u001b[43m \u001b[49m\u001b[38;5;241;43m*\u001b[39;49m\u001b[38;5;241;43m*\u001b[39;49m\u001b[43mkwargs\u001b[49m\u001b[43m)\u001b[49m\n\u001b[1;32m    227\u001b[0m \u001b[43m    \u001b[49m\u001b[43mmatfile_dict\u001b[49m\u001b[43m \u001b[49m\u001b[38;5;241;43m=\u001b[39;49m\u001b[43m \u001b[49m\u001b[43mMR\u001b[49m\u001b[38;5;241;43m.\u001b[39;49m\u001b[43mget_variables\u001b[49m\u001b[43m(\u001b[49m\u001b[43mvariable_names\u001b[49m\u001b[43m)\u001b[49m\n",
      "File \u001b[0;32m~/bin/mambaforge/envs/cs_7641_group_proj/lib/python3.12/contextlib.py:137\u001b[0m, in \u001b[0;36m_GeneratorContextManager.__enter__\u001b[0;34m(self)\u001b[0m\n\u001b[1;32m    135\u001b[0m \u001b[38;5;28;01mdel\u001b[39;00m \u001b[38;5;28mself\u001b[39m\u001b[38;5;241m.\u001b[39margs, \u001b[38;5;28mself\u001b[39m\u001b[38;5;241m.\u001b[39mkwds, \u001b[38;5;28mself\u001b[39m\u001b[38;5;241m.\u001b[39mfunc\n\u001b[1;32m    136\u001b[0m \u001b[38;5;28;01mtry\u001b[39;00m:\n\u001b[0;32m--> 137\u001b[0m     \u001b[38;5;28;01mreturn\u001b[39;00m \u001b[38;5;28;43mnext\u001b[39;49m\u001b[43m(\u001b[49m\u001b[38;5;28;43mself\u001b[39;49m\u001b[38;5;241;43m.\u001b[39;49m\u001b[43mgen\u001b[49m\u001b[43m)\u001b[49m\n\u001b[1;32m    138\u001b[0m \u001b[38;5;28;01mexcept\u001b[39;00m \u001b[38;5;167;01mStopIteration\u001b[39;00m:\n\u001b[1;32m    139\u001b[0m     \u001b[38;5;28;01mraise\u001b[39;00m \u001b[38;5;167;01mRuntimeError\u001b[39;00m(\u001b[38;5;124m\"\u001b[39m\u001b[38;5;124mgenerator didn\u001b[39m\u001b[38;5;124m'\u001b[39m\u001b[38;5;124mt yield\u001b[39m\u001b[38;5;124m\"\u001b[39m) \u001b[38;5;28;01mfrom\u001b[39;00m \u001b[38;5;28;01mNone\u001b[39;00m\n",
      "File \u001b[0;32m~/bin/mambaforge/envs/cs_7641_group_proj/lib/python3.12/site-packages/scipy/io/matlab/_mio.py:17\u001b[0m, in \u001b[0;36m_open_file_context\u001b[0;34m(file_like, appendmat, mode)\u001b[0m\n\u001b[1;32m     15\u001b[0m \u001b[38;5;129m@contextmanager\u001b[39m\n\u001b[1;32m     16\u001b[0m \u001b[38;5;28;01mdef\u001b[39;00m \u001b[38;5;21m_open_file_context\u001b[39m(file_like, appendmat, mode\u001b[38;5;241m=\u001b[39m\u001b[38;5;124m'\u001b[39m\u001b[38;5;124mrb\u001b[39m\u001b[38;5;124m'\u001b[39m):\n\u001b[0;32m---> 17\u001b[0m     f, opened \u001b[38;5;241m=\u001b[39m \u001b[43m_open_file\u001b[49m\u001b[43m(\u001b[49m\u001b[43mfile_like\u001b[49m\u001b[43m,\u001b[49m\u001b[43m \u001b[49m\u001b[43mappendmat\u001b[49m\u001b[43m,\u001b[49m\u001b[43m \u001b[49m\u001b[43mmode\u001b[49m\u001b[43m)\u001b[49m\n\u001b[1;32m     18\u001b[0m     \u001b[38;5;28;01mtry\u001b[39;00m:\n\u001b[1;32m     19\u001b[0m         \u001b[38;5;28;01myield\u001b[39;00m f\n",
      "File \u001b[0;32m~/bin/mambaforge/envs/cs_7641_group_proj/lib/python3.12/site-packages/scipy/io/matlab/_mio.py:45\u001b[0m, in \u001b[0;36m_open_file\u001b[0;34m(file_like, appendmat, mode)\u001b[0m\n\u001b[1;32m     43\u001b[0m     \u001b[38;5;28;01mif\u001b[39;00m appendmat \u001b[38;5;129;01mand\u001b[39;00m \u001b[38;5;129;01mnot\u001b[39;00m file_like\u001b[38;5;241m.\u001b[39mendswith(\u001b[38;5;124m'\u001b[39m\u001b[38;5;124m.mat\u001b[39m\u001b[38;5;124m'\u001b[39m):\n\u001b[1;32m     44\u001b[0m         file_like \u001b[38;5;241m+\u001b[39m\u001b[38;5;241m=\u001b[39m \u001b[38;5;124m'\u001b[39m\u001b[38;5;124m.mat\u001b[39m\u001b[38;5;124m'\u001b[39m\n\u001b[0;32m---> 45\u001b[0m     \u001b[38;5;28;01mreturn\u001b[39;00m \u001b[38;5;28;43mopen\u001b[39;49m\u001b[43m(\u001b[49m\u001b[43mfile_like\u001b[49m\u001b[43m,\u001b[49m\u001b[43m \u001b[49m\u001b[43mmode\u001b[49m\u001b[43m)\u001b[49m, \u001b[38;5;28;01mTrue\u001b[39;00m\n\u001b[1;32m     46\u001b[0m \u001b[38;5;28;01melse\u001b[39;00m:\n\u001b[1;32m     47\u001b[0m     \u001b[38;5;28;01mraise\u001b[39;00m \u001b[38;5;167;01mOSError\u001b[39;00m(\n\u001b[1;32m     48\u001b[0m         \u001b[38;5;124m'\u001b[39m\u001b[38;5;124mReader needs file name or open file-like object\u001b[39m\u001b[38;5;124m'\u001b[39m\n\u001b[1;32m     49\u001b[0m     ) \u001b[38;5;28;01mfrom\u001b[39;00m \u001b[38;5;21;01me\u001b[39;00m\n",
      "\u001b[0;31mFileNotFoundError\u001b[0m: [Errno 2] No such file or directory: 'JS00002.mat'"
     ]
    }
   ],
   "source": [
    "import feature_extraction_with_denoising\n",
    "from pathlib import Path\n",
    "\n",
    "import polars as pl"
   ]
  },
  {
   "cell_type": "code",
   "execution_count": 2,
   "metadata": {},
   "outputs": [],
   "source": [
    "pl.enable_string_cache()"
   ]
  },
  {
   "cell_type": "code",
   "execution_count": 4,
   "metadata": {},
   "outputs": [
    {
     "data": {
      "text/html": [
       "<div><style>\n",
       ".dataframe > thead > tr,\n",
       ".dataframe > tbody > tr {\n",
       "  text-align: right;\n",
       "  white-space: pre-wrap;\n",
       "}\n",
       "</style>\n",
       "<small>shape: (5_000, 14)</small><table border=\"1\" class=\"dataframe\"><thead><tr><th>patient_id</th><th>time</th><th>lead_I</th><th>lead_II</th><th>lead_III</th><th>lead_aVR</th><th>lead_aVL</th><th>lead_aVF</th><th>lead_V1</th><th>lead_V2</th><th>lead_V3</th><th>lead_V4</th><th>lead_V5</th><th>lead_V6</th></tr><tr><td>cat</td><td>f64</td><td>i16</td><td>i16</td><td>i16</td><td>i16</td><td>i16</td><td>i16</td><td>i16</td><td>i16</td><td>i16</td><td>i16</td><td>i16</td><td>i16</td></tr></thead><tbody><tr><td>&quot;JS11358&quot;</td><td>0.0</td><td>-132</td><td>-112</td><td>20</td><td>122</td><td>-78</td><td>-49</td><td>0</td><td>0</td><td>0</td><td>0</td><td>0</td><td>0</td></tr><tr><td>&quot;JS11358&quot;</td><td>0.002</td><td>-112</td><td>-88</td><td>24</td><td>102</td><td>-68</td><td>-34</td><td>0</td><td>0</td><td>0</td><td>0</td><td>0</td><td>0</td></tr><tr><td>&quot;JS11358&quot;</td><td>0.004</td><td>-107</td><td>-93</td><td>15</td><td>102</td><td>-63</td><td>-39</td><td>0</td><td>0</td><td>0</td><td>0</td><td>0</td><td>0</td></tr><tr><td>&quot;JS11358&quot;</td><td>0.006</td><td>-93</td><td>-102</td><td>-10</td><td>98</td><td>-44</td><td>-59</td><td>0</td><td>0</td><td>0</td><td>0</td><td>0</td><td>0</td></tr><tr><td>&quot;JS11358&quot;</td><td>0.008</td><td>-78</td><td>-102</td><td>-24</td><td>93</td><td>-29</td><td>-63</td><td>0</td><td>0</td><td>0</td><td>0</td><td>0</td><td>0</td></tr><tr><td>&quot;JS11358&quot;</td><td>0.01</td><td>-93</td><td>-98</td><td>-5</td><td>98</td><td>-44</td><td>-54</td><td>0</td><td>0</td><td>0</td><td>0</td><td>0</td><td>0</td></tr><tr><td>&quot;JS11358&quot;</td><td>0.012</td><td>-88</td><td>-93</td><td>-5</td><td>93</td><td>-44</td><td>-49</td><td>0</td><td>0</td><td>0</td><td>0</td><td>0</td><td>0</td></tr><tr><td>&quot;JS11358&quot;</td><td>0.014</td><td>-68</td><td>-88</td><td>-20</td><td>78</td><td>-24</td><td>-54</td><td>0</td><td>0</td><td>0</td><td>0</td><td>0</td><td>0</td></tr><tr><td>&quot;JS11358&quot;</td><td>0.016</td><td>-63</td><td>-83</td><td>-20</td><td>73</td><td>-24</td><td>-54</td><td>0</td><td>0</td><td>0</td><td>0</td><td>0</td><td>0</td></tr><tr><td>&quot;JS11358&quot;</td><td>0.018</td><td>-63</td><td>-78</td><td>-15</td><td>73</td><td>-24</td><td>-49</td><td>0</td><td>0</td><td>0</td><td>0</td><td>0</td><td>0</td></tr><tr><td>&quot;JS11358&quot;</td><td>0.02</td><td>-98</td><td>-102</td><td>-5</td><td>102</td><td>-49</td><td>-54</td><td>0</td><td>0</td><td>0</td><td>0</td><td>0</td><td>0</td></tr><tr><td>&quot;JS11358&quot;</td><td>0.022</td><td>-161</td><td>-127</td><td>34</td><td>146</td><td>-98</td><td>-49</td><td>0</td><td>0</td><td>0</td><td>0</td><td>0</td><td>0</td></tr><tr><td>&hellip;</td><td>&hellip;</td><td>&hellip;</td><td>&hellip;</td><td>&hellip;</td><td>&hellip;</td><td>&hellip;</td><td>&hellip;</td><td>&hellip;</td><td>&hellip;</td><td>&hellip;</td><td>&hellip;</td><td>&hellip;</td><td>&hellip;</td></tr><tr><td>&quot;JS11358&quot;</td><td>9.976</td><td>78</td><td>93</td><td>15</td><td>-83</td><td>29</td><td>54</td><td>0</td><td>0</td><td>0</td><td>0</td><td>0</td><td>0</td></tr><tr><td>&quot;JS11358&quot;</td><td>9.978</td><td>88</td><td>93</td><td>5</td><td>-88</td><td>39</td><td>49</td><td>0</td><td>0</td><td>0</td><td>0</td><td>0</td><td>0</td></tr><tr><td>&quot;JS11358&quot;</td><td>9.98</td><td>112</td><td>93</td><td>-20</td><td>-102</td><td>63</td><td>34</td><td>0</td><td>0</td><td>0</td><td>0</td><td>0</td><td>0</td></tr><tr><td>&quot;JS11358&quot;</td><td>9.982</td><td>122</td><td>102</td><td>-20</td><td>-112</td><td>68</td><td>39</td><td>0</td><td>0</td><td>0</td><td>0</td><td>0</td><td>0</td></tr><tr><td>&quot;JS11358&quot;</td><td>9.984</td><td>132</td><td>98</td><td>-34</td><td>-112</td><td>83</td><td>29</td><td>0</td><td>0</td><td>0</td><td>0</td><td>0</td><td>0</td></tr><tr><td>&quot;JS11358&quot;</td><td>9.986</td><td>146</td><td>98</td><td>-49</td><td>-122</td><td>98</td><td>24</td><td>0</td><td>0</td><td>0</td><td>0</td><td>0</td><td>0</td></tr><tr><td>&quot;JS11358&quot;</td><td>9.988</td><td>117</td><td>83</td><td>-34</td><td>-98</td><td>73</td><td>24</td><td>0</td><td>0</td><td>0</td><td>0</td><td>0</td><td>0</td></tr><tr><td>&quot;JS11358&quot;</td><td>9.99</td><td>93</td><td>68</td><td>-24</td><td>-78</td><td>59</td><td>20</td><td>0</td><td>0</td><td>0</td><td>0</td><td>0</td><td>0</td></tr><tr><td>&quot;JS11358&quot;</td><td>9.992</td><td>117</td><td>63</td><td>-54</td><td>-88</td><td>83</td><td>5</td><td>0</td><td>0</td><td>0</td><td>0</td><td>0</td><td>0</td></tr><tr><td>&quot;JS11358&quot;</td><td>9.994</td><td>161</td><td>73</td><td>-88</td><td>-117</td><td>122</td><td>-10</td><td>0</td><td>0</td><td>0</td><td>0</td><td>0</td><td>0</td></tr><tr><td>&quot;JS11358&quot;</td><td>9.996</td><td>122</td><td>78</td><td>-44</td><td>-98</td><td>83</td><td>15</td><td>0</td><td>0</td><td>0</td><td>0</td><td>0</td><td>0</td></tr><tr><td>&quot;JS11358&quot;</td><td>9.998</td><td>122</td><td>88</td><td>-34</td><td>-102</td><td>78</td><td>24</td><td>0</td><td>0</td><td>0</td><td>0</td><td>0</td><td>0</td></tr></tbody></table></div>"
      ],
      "text/plain": [
       "shape: (5_000, 14)\n",
       "┌────────────┬───────┬────────┬─────────┬───┬─────────┬─────────┬─────────┬─────────┐\n",
       "│ patient_id ┆ time  ┆ lead_I ┆ lead_II ┆ … ┆ lead_V3 ┆ lead_V4 ┆ lead_V5 ┆ lead_V6 │\n",
       "│ ---        ┆ ---   ┆ ---    ┆ ---     ┆   ┆ ---     ┆ ---     ┆ ---     ┆ ---     │\n",
       "│ cat        ┆ f64   ┆ i16    ┆ i16     ┆   ┆ i16     ┆ i16     ┆ i16     ┆ i16     │\n",
       "╞════════════╪═══════╪════════╪═════════╪═══╪═════════╪═════════╪═════════╪═════════╡\n",
       "│ JS11358    ┆ 0.0   ┆ -132   ┆ -112    ┆ … ┆ 0       ┆ 0       ┆ 0       ┆ 0       │\n",
       "│ JS11358    ┆ 0.002 ┆ -112   ┆ -88     ┆ … ┆ 0       ┆ 0       ┆ 0       ┆ 0       │\n",
       "│ JS11358    ┆ 0.004 ┆ -107   ┆ -93     ┆ … ┆ 0       ┆ 0       ┆ 0       ┆ 0       │\n",
       "│ JS11358    ┆ 0.006 ┆ -93    ┆ -102    ┆ … ┆ 0       ┆ 0       ┆ 0       ┆ 0       │\n",
       "│ JS11358    ┆ 0.008 ┆ -78    ┆ -102    ┆ … ┆ 0       ┆ 0       ┆ 0       ┆ 0       │\n",
       "│ …          ┆ …     ┆ …      ┆ …       ┆ … ┆ …       ┆ …       ┆ …       ┆ …       │\n",
       "│ JS11358    ┆ 9.99  ┆ 93     ┆ 68      ┆ … ┆ 0       ┆ 0       ┆ 0       ┆ 0       │\n",
       "│ JS11358    ┆ 9.992 ┆ 117    ┆ 63      ┆ … ┆ 0       ┆ 0       ┆ 0       ┆ 0       │\n",
       "│ JS11358    ┆ 9.994 ┆ 161    ┆ 73      ┆ … ┆ 0       ┆ 0       ┆ 0       ┆ 0       │\n",
       "│ JS11358    ┆ 9.996 ┆ 122    ┆ 78      ┆ … ┆ 0       ┆ 0       ┆ 0       ┆ 0       │\n",
       "│ JS11358    ┆ 9.998 ┆ 122    ┆ 88      ┆ … ┆ 0       ┆ 0       ┆ 0       ┆ 0       │\n",
       "└────────────┴───────┴────────┴─────────┴───┴─────────┴─────────┴─────────┴─────────┘"
      ]
     },
     "execution_count": 4,
     "metadata": {},
     "output_type": "execute_result"
    }
   ],
   "source": [
    "all_ecg_data_path = Path(\"..\", \"processed_data\", \"all_ecg_data.parquet.snappy\")\n",
    "\n",
    "all_ecg_data = pl.scan_parquet(\n",
    "    source=all_ecg_data_path,\n",
    "    rechunk=False,\n",
    "    low_memory=False\n",
    ")\n",
    "\n",
    "all_ecg_data.head(5000).collect()"
   ]
  }
 ],
 "metadata": {
  "kernelspec": {
   "display_name": "cs_7641_group_proj",
   "language": "python",
   "name": "python3"
  },
  "language_info": {
   "codemirror_mode": {
    "name": "ipython",
    "version": 3
   },
   "file_extension": ".py",
   "mimetype": "text/x-python",
   "name": "python",
   "nbconvert_exporter": "python",
   "pygments_lexer": "ipython3",
   "version": "3.12.2"
  }
 },
 "nbformat": 4,
 "nbformat_minor": 2
}
