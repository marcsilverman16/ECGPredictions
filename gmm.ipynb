{
 "cells": [
  {
   "cell_type": "code",
   "execution_count": 31,
   "metadata": {},
   "outputs": [],
   "source": [
    "import soft_clustering_dw\n",
    "import l1_minimization\n",
    "from utilities import get_wanted_file_paths, read_matrix\n",
    "\n",
    "from pathlib import Path\n",
    "\n",
    "import polars as pl\n",
    "from tslearn.metrics import dtw\n",
    "import numpy as np\n",
    "import plotly.express as px"
   ]
  },
  {
   "cell_type": "code",
   "execution_count": 2,
   "metadata": {},
   "outputs": [],
   "source": [
    "dtw_dir = Path(\"../processed_data/split_info/fold_0/fold_0/training/dtw\")"
   ]
  },
  {
   "cell_type": "code",
   "execution_count": 3,
   "metadata": {},
   "outputs": [],
   "source": [
    "dissimilarity_mat_path = Path(dtw_dir, \"sex_female/age_80_to_84/dissimilarity_matrix.parquet.snappy\")"
   ]
  },
  {
   "cell_type": "code",
   "execution_count": 24,
   "metadata": {},
   "outputs": [
    {
     "name": "stdout",
     "output_type": "stream",
     "text": [
      "shape: (11, 11)\n",
      "┌───────────┬───────────┬───────────┬───────────┬───┬───────────┬───────────┬───────────┬──────────┐\n",
      "│ JS00167   ┆ JS07743   ┆ JS12994   ┆ JS17031   ┆ … ┆ JS22957   ┆ JS29031   ┆ JS43422   ┆ JS44357  │\n",
      "│ ---       ┆ ---       ┆ ---       ┆ ---       ┆   ┆ ---       ┆ ---       ┆ ---       ┆ ---      │\n",
      "│ f64       ┆ f64       ┆ f64       ┆ f64       ┆   ┆ f64       ┆ f64       ┆ f64       ┆ f64      │\n",
      "╞═══════════╪═══════════╪═══════════╪═══════════╪═══╪═══════════╪═══════════╪═══════════╪══════════╡\n",
      "│ 0.0       ┆ 18890.073 ┆ 20046.527 ┆ 16221.795 ┆ … ┆ 15036.605 ┆ 13577.965 ┆ 14121.617 ┆ 15748.89 │\n",
      "│           ┆ 251       ┆ 379       ┆ 316       ┆   ┆ 858       ┆ 777       ┆ 974       ┆ 6094     │\n",
      "│ 18890.073 ┆ 0.0       ┆ 20328.915 ┆ 17760.912 ┆ … ┆ 18892.622 ┆ 18188.600 ┆ 16823.799 ┆ 20058.63 │\n",
      "│ 251       ┆           ┆ 538       ┆ 752       ┆   ┆ 274       ┆ 938       ┆ 281       ┆ 233      │\n",
      "│ 20046.527 ┆ 20328.915 ┆ 0.0       ┆ 18509.523 ┆ … ┆ 19796.417 ┆ 20304.462 ┆ 17491.265 ┆ 20621.30 │\n",
      "│ 379       ┆ 538       ┆           ┆ 187       ┆   ┆ 53        ┆ 189       ┆ 181       ┆ 0463     │\n",
      "│ 16221.795 ┆ 17760.912 ┆ 18509.523 ┆ 0.0       ┆ … ┆ 16338.914 ┆ 15230.167 ┆ 14815.281 ┆ 17472.33 │\n",
      "│ 316       ┆ 752       ┆ 187       ┆           ┆   ┆ 431       ┆ 653       ┆ 131       ┆ 0881     │\n",
      "│ 18213.129 ┆ 21961.808 ┆ 23586.642 ┆ 20681.854 ┆ … ┆ 21520.153 ┆ 19787.155 ┆ 17819.268 ┆ 19598.95 │\n",
      "│ 373       ┆ 109       ┆ 732       ┆ 023       ┆   ┆ 439       ┆ 851       ┆ 076       ┆ 5108     │\n",
      "│ 20981.252 ┆ 21995.241 ┆ 21030.427 ┆ 18288.029 ┆ … ┆ 19780.686 ┆ 20120.115 ┆ 19393.318 ┆ 20905.88 │\n",
      "│ 357       ┆ 47        ┆ 274       ┆ 346       ┆   ┆ 629       ┆ 222       ┆ 806       ┆ 9659     │\n",
      "│ 14824.181 ┆ 18292.021 ┆ 19049.000 ┆ 15057.864 ┆ … ┆ 14204.612 ┆ 13669.287 ┆ 14990.290 ┆ 17285.49 │\n",
      "│ 456       ┆ 58        ┆ 851       ┆ 171       ┆   ┆ 882       ┆ 387       ┆ 834       ┆ 5084     │\n",
      "│ 15036.605 ┆ 18892.622 ┆ 19796.417 ┆ 16338.914 ┆ … ┆ 0.0       ┆ 13792.260 ┆ 15875.915 ┆ 17865.36 │\n",
      "│ 858       ┆ 274       ┆ 53        ┆ 431       ┆   ┆           ┆ 497       ┆ 306       ┆ 4856     │\n",
      "│ 13577.965 ┆ 18188.600 ┆ 20304.462 ┆ 15230.167 ┆ … ┆ 13792.260 ┆ 0.0       ┆ 14429.626 ┆ 16244.33 │\n",
      "│ 777       ┆ 938       ┆ 189       ┆ 653       ┆   ┆ 497       ┆           ┆ 091       ┆ 3368     │\n",
      "│ 14121.617 ┆ 16823.799 ┆ 17491.265 ┆ 14815.281 ┆ … ┆ 15875.915 ┆ 14429.626 ┆ 0.0       ┆ 15830.60 │\n",
      "│ 974       ┆ 281       ┆ 181       ┆ 131       ┆   ┆ 306       ┆ 091       ┆           ┆ 6776     │\n",
      "│ 15748.896 ┆ 20058.632 ┆ 20621.300 ┆ 17472.330 ┆ … ┆ 17865.364 ┆ 16244.333 ┆ 15830.606 ┆ 0.0      │\n",
      "│ 094       ┆ 33        ┆ 463       ┆ 881       ┆   ┆ 856       ┆ 368       ┆ 776       ┆          │\n",
      "└───────────┴───────────┴───────────┴───────────┴───┴───────────┴───────────┴───────────┴──────────┘\n"
     ]
    }
   ],
   "source": [
    "dissimilarity_mat_df = pl.scan_parquet(dissimilarity_mat_path)\n",
    "dissimilarity_mat_df = dissimilarity_mat_df.collect()\n",
    "print(dissimilarity_mat_df)\n",
    "dissimilarity_mat = dissimilarity_mat_df.to_numpy()"
   ]
  },
  {
   "cell_type": "code",
   "execution_count": 29,
   "metadata": {},
   "outputs": [
    {
     "name": "stdout",
     "output_type": "stream",
     "text": [
      "shape: (32, 4)\n",
      "┌────────────┬─────┬────────┬───────────────────────────────────┐\n",
      "│ patient_id ┆ age ┆ sex    ┆ snomed_concept_name               │\n",
      "│ ---        ┆ --- ┆ ---    ┆ ---                               │\n",
      "│ cat        ┆ u8  ┆ cat    ┆ cat                               │\n",
      "╞════════════╪═════╪════════╪═══════════════════════════════════╡\n",
      "│ JS20567    ┆ 80  ┆ Female ┆ Premature atrial contraction      │\n",
      "│ JS20567    ┆ 80  ┆ Female ┆ Sinus bradycardia                 │\n",
      "│ JS22957    ┆ 80  ┆ Female ┆ Prolonged QT interval             │\n",
      "│ JS22957    ┆ 80  ┆ Female ┆ Sinus bradycardia                 │\n",
      "│ JS44357    ┆ 84  ┆ Female ┆ Sinus tachycardia                 │\n",
      "│ JS43422    ┆ 82  ┆ Female ┆ Prolonged QT interval             │\n",
      "│ JS43422    ┆ 82  ┆ Female ┆ Sinus tachycardia                 │\n",
      "│ JS43422    ┆ 82  ┆ Female ┆ Left ventricular hypertrophy      │\n",
      "│ JS43422    ┆ 82  ┆ Female ┆ ST segment changes                │\n",
      "│ JS29031    ┆ 81  ┆ Female ┆ Sinus bradycardia                 │\n",
      "│ JS00167    ┆ 84  ┆ Female ┆ Premature atrial contraction      │\n",
      "│ JS00167    ┆ 84  ┆ Female ┆ Sinus bradycardia                 │\n",
      "│ JS17031    ┆ 82  ┆ Female ┆ Atrial flutter                    │\n",
      "│ JS17031    ┆ 82  ┆ Female ┆ ST segment changes                │\n",
      "│ JS17031    ┆ 82  ┆ Female ┆ R wave - finding                  │\n",
      "│ JS07743    ┆ 80  ┆ Female ┆ T wave abnormal                   │\n",
      "│ JS07743    ┆ 80  ┆ Female ┆ Ventricular premature beats       │\n",
      "│ JS07743    ┆ 80  ┆ Female ┆ Sinus tachycardia                 │\n",
      "│ JS20122    ┆ 83  ┆ Female ┆ Premature atrial contraction      │\n",
      "│ JS20122    ┆ 83  ┆ Female ┆ Right axis deviation              │\n",
      "│ JS20122    ┆ 83  ┆ Female ┆ Sinus tachycardia                 │\n",
      "│ JS20122    ┆ 83  ┆ Female ┆ Atrial tachycardia                │\n",
      "│ JS20122    ┆ 83  ┆ Female ┆ ST segment changes                │\n",
      "│ JS20122    ┆ 83  ┆ Female ┆ Premature ventricular contractio… │\n",
      "│ JS19966    ┆ 81  ┆ Female ┆ Atrial flutter                    │\n",
      "│ JS19966    ┆ 81  ┆ Female ┆ Left ventricular hypertrophy      │\n",
      "│ JS19966    ┆ 81  ┆ Female ┆ ST segment changes                │\n",
      "│ JS12994    ┆ 83  ┆ Female ┆ Non-specific intraventricular co… │\n",
      "│ JS12994    ┆ 83  ┆ Female ┆ ST Depression                     │\n",
      "│ JS12994    ┆ 83  ┆ Female ┆ Atrial flutter                    │\n",
      "│ JS12994    ┆ 83  ┆ Female ┆ Left ventricular hypertrophy      │\n",
      "│ JS12994    ┆ 83  ┆ Female ┆ ST segment changes                │\n",
      "└────────────┴─────┴────────┴───────────────────────────────────┘\n"
     ]
    }
   ],
   "source": [
    "pl.Config.set_tbl_width_chars(200)\n",
    "pl.Config.set_tbl_rows(34)\n",
    "hf = pl.scan_parquet(\"../processed_data/all_header_file_data.parquet.snappy\")\n",
    "print(hf\n",
    "    .filter(pl.col(\"patient_id\").is_in(dissimilarity_mat_df.columns))\n",
    "    .collect()\n",
    ")\n",
    "\n"
   ]
  },
  {
   "cell_type": "code",
   "execution_count": 5,
   "metadata": {},
   "outputs": [],
   "source": [
    "wfdb_dir = Path(\"../raw_data/a-large-scale-12-lead-electrocardiogram-database-for-arrhythmia-study-1.0.0/WFDBRecords\")\n",
    "a_path, b_path = get_wanted_file_paths(\n",
    "    parent_dir=wfdb_dir,\n",
    "    file_stems=[\"JS23065\", \"JS23622\"]\n",
    ")\n",
    "a = read_matrix(a_path)\n",
    "b = read_matrix(b_path)"
   ]
  },
  {
   "cell_type": "code",
   "execution_count": null,
   "metadata": {},
   "outputs": [],
   "source": [
    "D_hat, W = l1_minimization.iteratively_reweighted_l1_minimization(\n",
    "    D=dissimilarity_mat\n",
    ")"
   ]
  },
  {
   "cell_type": "code",
   "execution_count": 19,
   "metadata": {},
   "outputs": [],
   "source": [
    "D_hat = np.round(D_hat)"
   ]
  },
  {
   "cell_type": "code",
   "execution_count": 33,
   "metadata": {},
   "outputs": [],
   "source": [
    "soft_obj, mds = soft_clustering_dw.soft_assignment_gmm(\n",
    "    dm=D_hat,\n",
    "    n_clusters=2,\n",
    "    n_dim=2\n",
    ")"
   ]
  },
  {
   "cell_type": "code",
   "execution_count": 34,
   "metadata": {},
   "outputs": [
    {
     "data": {
      "text/plain": [
       "(11, 2)"
      ]
     },
     "execution_count": 34,
     "metadata": {},
     "output_type": "execute_result"
    }
   ],
   "source": [
    "mds.shape"
   ]
  },
  {
   "cell_type": "code",
   "execution_count": 36,
   "metadata": {},
   "outputs": [
    {
     "data": {
      "application/vnd.plotly.v1+json": {
       "config": {
        "plotlyServerURL": "https://plot.ly"
       },
       "data": [
        {
         "hovertemplate": "x=%{x}<br>y=%{y}<extra></extra>",
         "legendgroup": "",
         "marker": {
          "color": "#636efa",
          "symbol": "circle"
         },
         "mode": "markers",
         "name": "",
         "orientation": "v",
         "showlegend": false,
         "type": "scatter",
         "x": [
          1695.8312833728874,
          13468.151728266985,
          6764.648953234229,
          -383.1160134630405,
          11681.204934482306,
          -8924.959604849133,
          -10239.830247741074,
          -10478.338961655098,
          -3801.2670840427936,
          5234.3412352462055,
          -5016.6662228514715
         ],
         "xaxis": "x",
         "y": [
          -8122.837843111277,
          3383.646888869254,
          13621.887171659531,
          6562.662750906687,
          -12257.8528298855,
          13974.451768050452,
          -3426.9952257208874,
          2522.6960555924597,
          -3057.478910267426,
          -587.3962760439671,
          -12612.783550049327
         ],
         "yaxis": "y"
        }
       ],
       "layout": {
        "legend": {
         "tracegroupgap": 0
        },
        "margin": {
         "t": 60
        },
        "template": {
         "data": {
          "bar": [
           {
            "error_x": {
             "color": "#2a3f5f"
            },
            "error_y": {
             "color": "#2a3f5f"
            },
            "marker": {
             "line": {
              "color": "#E5ECF6",
              "width": 0.5
             },
             "pattern": {
              "fillmode": "overlay",
              "size": 10,
              "solidity": 0.2
             }
            },
            "type": "bar"
           }
          ],
          "barpolar": [
           {
            "marker": {
             "line": {
              "color": "#E5ECF6",
              "width": 0.5
             },
             "pattern": {
              "fillmode": "overlay",
              "size": 10,
              "solidity": 0.2
             }
            },
            "type": "barpolar"
           }
          ],
          "carpet": [
           {
            "aaxis": {
             "endlinecolor": "#2a3f5f",
             "gridcolor": "white",
             "linecolor": "white",
             "minorgridcolor": "white",
             "startlinecolor": "#2a3f5f"
            },
            "baxis": {
             "endlinecolor": "#2a3f5f",
             "gridcolor": "white",
             "linecolor": "white",
             "minorgridcolor": "white",
             "startlinecolor": "#2a3f5f"
            },
            "type": "carpet"
           }
          ],
          "choropleth": [
           {
            "colorbar": {
             "outlinewidth": 0,
             "ticks": ""
            },
            "type": "choropleth"
           }
          ],
          "contour": [
           {
            "colorbar": {
             "outlinewidth": 0,
             "ticks": ""
            },
            "colorscale": [
             [
              0,
              "#0d0887"
             ],
             [
              0.1111111111111111,
              "#46039f"
             ],
             [
              0.2222222222222222,
              "#7201a8"
             ],
             [
              0.3333333333333333,
              "#9c179e"
             ],
             [
              0.4444444444444444,
              "#bd3786"
             ],
             [
              0.5555555555555556,
              "#d8576b"
             ],
             [
              0.6666666666666666,
              "#ed7953"
             ],
             [
              0.7777777777777778,
              "#fb9f3a"
             ],
             [
              0.8888888888888888,
              "#fdca26"
             ],
             [
              1,
              "#f0f921"
             ]
            ],
            "type": "contour"
           }
          ],
          "contourcarpet": [
           {
            "colorbar": {
             "outlinewidth": 0,
             "ticks": ""
            },
            "type": "contourcarpet"
           }
          ],
          "heatmap": [
           {
            "colorbar": {
             "outlinewidth": 0,
             "ticks": ""
            },
            "colorscale": [
             [
              0,
              "#0d0887"
             ],
             [
              0.1111111111111111,
              "#46039f"
             ],
             [
              0.2222222222222222,
              "#7201a8"
             ],
             [
              0.3333333333333333,
              "#9c179e"
             ],
             [
              0.4444444444444444,
              "#bd3786"
             ],
             [
              0.5555555555555556,
              "#d8576b"
             ],
             [
              0.6666666666666666,
              "#ed7953"
             ],
             [
              0.7777777777777778,
              "#fb9f3a"
             ],
             [
              0.8888888888888888,
              "#fdca26"
             ],
             [
              1,
              "#f0f921"
             ]
            ],
            "type": "heatmap"
           }
          ],
          "heatmapgl": [
           {
            "colorbar": {
             "outlinewidth": 0,
             "ticks": ""
            },
            "colorscale": [
             [
              0,
              "#0d0887"
             ],
             [
              0.1111111111111111,
              "#46039f"
             ],
             [
              0.2222222222222222,
              "#7201a8"
             ],
             [
              0.3333333333333333,
              "#9c179e"
             ],
             [
              0.4444444444444444,
              "#bd3786"
             ],
             [
              0.5555555555555556,
              "#d8576b"
             ],
             [
              0.6666666666666666,
              "#ed7953"
             ],
             [
              0.7777777777777778,
              "#fb9f3a"
             ],
             [
              0.8888888888888888,
              "#fdca26"
             ],
             [
              1,
              "#f0f921"
             ]
            ],
            "type": "heatmapgl"
           }
          ],
          "histogram": [
           {
            "marker": {
             "pattern": {
              "fillmode": "overlay",
              "size": 10,
              "solidity": 0.2
             }
            },
            "type": "histogram"
           }
          ],
          "histogram2d": [
           {
            "colorbar": {
             "outlinewidth": 0,
             "ticks": ""
            },
            "colorscale": [
             [
              0,
              "#0d0887"
             ],
             [
              0.1111111111111111,
              "#46039f"
             ],
             [
              0.2222222222222222,
              "#7201a8"
             ],
             [
              0.3333333333333333,
              "#9c179e"
             ],
             [
              0.4444444444444444,
              "#bd3786"
             ],
             [
              0.5555555555555556,
              "#d8576b"
             ],
             [
              0.6666666666666666,
              "#ed7953"
             ],
             [
              0.7777777777777778,
              "#fb9f3a"
             ],
             [
              0.8888888888888888,
              "#fdca26"
             ],
             [
              1,
              "#f0f921"
             ]
            ],
            "type": "histogram2d"
           }
          ],
          "histogram2dcontour": [
           {
            "colorbar": {
             "outlinewidth": 0,
             "ticks": ""
            },
            "colorscale": [
             [
              0,
              "#0d0887"
             ],
             [
              0.1111111111111111,
              "#46039f"
             ],
             [
              0.2222222222222222,
              "#7201a8"
             ],
             [
              0.3333333333333333,
              "#9c179e"
             ],
             [
              0.4444444444444444,
              "#bd3786"
             ],
             [
              0.5555555555555556,
              "#d8576b"
             ],
             [
              0.6666666666666666,
              "#ed7953"
             ],
             [
              0.7777777777777778,
              "#fb9f3a"
             ],
             [
              0.8888888888888888,
              "#fdca26"
             ],
             [
              1,
              "#f0f921"
             ]
            ],
            "type": "histogram2dcontour"
           }
          ],
          "mesh3d": [
           {
            "colorbar": {
             "outlinewidth": 0,
             "ticks": ""
            },
            "type": "mesh3d"
           }
          ],
          "parcoords": [
           {
            "line": {
             "colorbar": {
              "outlinewidth": 0,
              "ticks": ""
             }
            },
            "type": "parcoords"
           }
          ],
          "pie": [
           {
            "automargin": true,
            "type": "pie"
           }
          ],
          "scatter": [
           {
            "fillpattern": {
             "fillmode": "overlay",
             "size": 10,
             "solidity": 0.2
            },
            "type": "scatter"
           }
          ],
          "scatter3d": [
           {
            "line": {
             "colorbar": {
              "outlinewidth": 0,
              "ticks": ""
             }
            },
            "marker": {
             "colorbar": {
              "outlinewidth": 0,
              "ticks": ""
             }
            },
            "type": "scatter3d"
           }
          ],
          "scattercarpet": [
           {
            "marker": {
             "colorbar": {
              "outlinewidth": 0,
              "ticks": ""
             }
            },
            "type": "scattercarpet"
           }
          ],
          "scattergeo": [
           {
            "marker": {
             "colorbar": {
              "outlinewidth": 0,
              "ticks": ""
             }
            },
            "type": "scattergeo"
           }
          ],
          "scattergl": [
           {
            "marker": {
             "colorbar": {
              "outlinewidth": 0,
              "ticks": ""
             }
            },
            "type": "scattergl"
           }
          ],
          "scattermapbox": [
           {
            "marker": {
             "colorbar": {
              "outlinewidth": 0,
              "ticks": ""
             }
            },
            "type": "scattermapbox"
           }
          ],
          "scatterpolar": [
           {
            "marker": {
             "colorbar": {
              "outlinewidth": 0,
              "ticks": ""
             }
            },
            "type": "scatterpolar"
           }
          ],
          "scatterpolargl": [
           {
            "marker": {
             "colorbar": {
              "outlinewidth": 0,
              "ticks": ""
             }
            },
            "type": "scatterpolargl"
           }
          ],
          "scatterternary": [
           {
            "marker": {
             "colorbar": {
              "outlinewidth": 0,
              "ticks": ""
             }
            },
            "type": "scatterternary"
           }
          ],
          "surface": [
           {
            "colorbar": {
             "outlinewidth": 0,
             "ticks": ""
            },
            "colorscale": [
             [
              0,
              "#0d0887"
             ],
             [
              0.1111111111111111,
              "#46039f"
             ],
             [
              0.2222222222222222,
              "#7201a8"
             ],
             [
              0.3333333333333333,
              "#9c179e"
             ],
             [
              0.4444444444444444,
              "#bd3786"
             ],
             [
              0.5555555555555556,
              "#d8576b"
             ],
             [
              0.6666666666666666,
              "#ed7953"
             ],
             [
              0.7777777777777778,
              "#fb9f3a"
             ],
             [
              0.8888888888888888,
              "#fdca26"
             ],
             [
              1,
              "#f0f921"
             ]
            ],
            "type": "surface"
           }
          ],
          "table": [
           {
            "cells": {
             "fill": {
              "color": "#EBF0F8"
             },
             "line": {
              "color": "white"
             }
            },
            "header": {
             "fill": {
              "color": "#C8D4E3"
             },
             "line": {
              "color": "white"
             }
            },
            "type": "table"
           }
          ]
         },
         "layout": {
          "annotationdefaults": {
           "arrowcolor": "#2a3f5f",
           "arrowhead": 0,
           "arrowwidth": 1
          },
          "autotypenumbers": "strict",
          "coloraxis": {
           "colorbar": {
            "outlinewidth": 0,
            "ticks": ""
           }
          },
          "colorscale": {
           "diverging": [
            [
             0,
             "#8e0152"
            ],
            [
             0.1,
             "#c51b7d"
            ],
            [
             0.2,
             "#de77ae"
            ],
            [
             0.3,
             "#f1b6da"
            ],
            [
             0.4,
             "#fde0ef"
            ],
            [
             0.5,
             "#f7f7f7"
            ],
            [
             0.6,
             "#e6f5d0"
            ],
            [
             0.7,
             "#b8e186"
            ],
            [
             0.8,
             "#7fbc41"
            ],
            [
             0.9,
             "#4d9221"
            ],
            [
             1,
             "#276419"
            ]
           ],
           "sequential": [
            [
             0,
             "#0d0887"
            ],
            [
             0.1111111111111111,
             "#46039f"
            ],
            [
             0.2222222222222222,
             "#7201a8"
            ],
            [
             0.3333333333333333,
             "#9c179e"
            ],
            [
             0.4444444444444444,
             "#bd3786"
            ],
            [
             0.5555555555555556,
             "#d8576b"
            ],
            [
             0.6666666666666666,
             "#ed7953"
            ],
            [
             0.7777777777777778,
             "#fb9f3a"
            ],
            [
             0.8888888888888888,
             "#fdca26"
            ],
            [
             1,
             "#f0f921"
            ]
           ],
           "sequentialminus": [
            [
             0,
             "#0d0887"
            ],
            [
             0.1111111111111111,
             "#46039f"
            ],
            [
             0.2222222222222222,
             "#7201a8"
            ],
            [
             0.3333333333333333,
             "#9c179e"
            ],
            [
             0.4444444444444444,
             "#bd3786"
            ],
            [
             0.5555555555555556,
             "#d8576b"
            ],
            [
             0.6666666666666666,
             "#ed7953"
            ],
            [
             0.7777777777777778,
             "#fb9f3a"
            ],
            [
             0.8888888888888888,
             "#fdca26"
            ],
            [
             1,
             "#f0f921"
            ]
           ]
          },
          "colorway": [
           "#636efa",
           "#EF553B",
           "#00cc96",
           "#ab63fa",
           "#FFA15A",
           "#19d3f3",
           "#FF6692",
           "#B6E880",
           "#FF97FF",
           "#FECB52"
          ],
          "font": {
           "color": "#2a3f5f"
          },
          "geo": {
           "bgcolor": "white",
           "lakecolor": "white",
           "landcolor": "#E5ECF6",
           "showlakes": true,
           "showland": true,
           "subunitcolor": "white"
          },
          "hoverlabel": {
           "align": "left"
          },
          "hovermode": "closest",
          "mapbox": {
           "style": "light"
          },
          "paper_bgcolor": "white",
          "plot_bgcolor": "#E5ECF6",
          "polar": {
           "angularaxis": {
            "gridcolor": "white",
            "linecolor": "white",
            "ticks": ""
           },
           "bgcolor": "#E5ECF6",
           "radialaxis": {
            "gridcolor": "white",
            "linecolor": "white",
            "ticks": ""
           }
          },
          "scene": {
           "xaxis": {
            "backgroundcolor": "#E5ECF6",
            "gridcolor": "white",
            "gridwidth": 2,
            "linecolor": "white",
            "showbackground": true,
            "ticks": "",
            "zerolinecolor": "white"
           },
           "yaxis": {
            "backgroundcolor": "#E5ECF6",
            "gridcolor": "white",
            "gridwidth": 2,
            "linecolor": "white",
            "showbackground": true,
            "ticks": "",
            "zerolinecolor": "white"
           },
           "zaxis": {
            "backgroundcolor": "#E5ECF6",
            "gridcolor": "white",
            "gridwidth": 2,
            "linecolor": "white",
            "showbackground": true,
            "ticks": "",
            "zerolinecolor": "white"
           }
          },
          "shapedefaults": {
           "line": {
            "color": "#2a3f5f"
           }
          },
          "ternary": {
           "aaxis": {
            "gridcolor": "white",
            "linecolor": "white",
            "ticks": ""
           },
           "baxis": {
            "gridcolor": "white",
            "linecolor": "white",
            "ticks": ""
           },
           "bgcolor": "#E5ECF6",
           "caxis": {
            "gridcolor": "white",
            "linecolor": "white",
            "ticks": ""
           }
          },
          "title": {
           "x": 0.05
          },
          "xaxis": {
           "automargin": true,
           "gridcolor": "white",
           "linecolor": "white",
           "ticks": "",
           "title": {
            "standoff": 15
           },
           "zerolinecolor": "white",
           "zerolinewidth": 2
          },
          "yaxis": {
           "automargin": true,
           "gridcolor": "white",
           "linecolor": "white",
           "ticks": "",
           "title": {
            "standoff": 15
           },
           "zerolinecolor": "white",
           "zerolinewidth": 2
          }
         }
        },
        "xaxis": {
         "anchor": "y",
         "domain": [
          0,
          1
         ],
         "title": {
          "text": "x"
         }
        },
        "yaxis": {
         "anchor": "x",
         "domain": [
          0,
          1
         ],
         "title": {
          "text": "y"
         }
        }
       }
      }
     },
     "metadata": {},
     "output_type": "display_data"
    }
   ],
   "source": [
    "fig = px.scatter(\n",
    "    x=mds[:, 0],\n",
    "    y=mds[:, 1]\n",
    ")\n",
    "fig.show()\n",
    "fig.write_image(Path(\"../processed_data/split_info/fold_0/fold_0/training/dtw/sex_female/age_80_to_84/mds.png\"))"
   ]
  },
  {
   "cell_type": "code",
   "execution_count": 39,
   "metadata": {},
   "outputs": [
    {
     "data": {
      "text/plain": [
       "array([[9.84638096e-01, 1.53619044e-02],\n",
       "       [1.33379438e-03, 9.98666206e-01],\n",
       "       [1.17929819e-02, 9.88207018e-01],\n",
       "       [9.77773796e-01, 2.22262039e-02],\n",
       "       [1.37232182e-02, 9.86276782e-01],\n",
       "       [9.99998917e-01, 1.08316635e-06],\n",
       "       [9.99999999e-01, 7.73669405e-10],\n",
       "       [9.99999997e-01, 2.57151865e-09],\n",
       "       [9.99968969e-01, 3.10312298e-05],\n",
       "       [3.30642382e-01, 6.69357618e-01],\n",
       "       [9.99999318e-01, 6.82175462e-07]])"
      ]
     },
     "execution_count": 39,
     "metadata": {},
     "output_type": "execute_result"
    }
   ],
   "source": [
    "soft_obj"
   ]
  },
  {
   "cell_type": "code",
   "execution_count": 37,
   "metadata": {},
   "outputs": [],
   "source": [
    "fuzzy_c_means = soft_clustering_dw.soft_assignment_fuzzy(\n",
    "    dm=D_hat,\n",
    "    n_clusters=2\n",
    ")"
   ]
  },
  {
   "cell_type": "code",
   "execution_count": 38,
   "metadata": {},
   "outputs": [
    {
     "data": {
      "text/plain": [
       "array([[5.21935075e-01, 4.78064925e-01],\n",
       "       [5.01411694e-01, 4.98588306e-01],\n",
       "       [4.84054583e-01, 5.15945417e-01],\n",
       "       [4.97160592e-01, 5.02839408e-01],\n",
       "       [5.13928466e-01, 4.86071534e-01],\n",
       "       [4.87793081e-01, 5.12206919e-01],\n",
       "       [7.31582413e-11, 1.00000000e+00],\n",
       "       [5.07375790e-01, 4.92624210e-01],\n",
       "       [1.00000000e+00, 7.31582413e-11],\n",
       "       [5.09517335e-01, 4.90482665e-01],\n",
       "       [5.15523875e-01, 4.84476125e-01]])"
      ]
     },
     "execution_count": 38,
     "metadata": {},
     "output_type": "execute_result"
    }
   ],
   "source": [
    "fuzzy_c_means"
   ]
  }
 ],
 "metadata": {
  "kernelspec": {
   "display_name": "cs_7641_group_proj",
   "language": "python",
   "name": "python3"
  },
  "language_info": {
   "codemirror_mode": {
    "name": "ipython",
    "version": 3
   },
   "file_extension": ".py",
   "mimetype": "text/x-python",
   "name": "python",
   "nbconvert_exporter": "python",
   "pygments_lexer": "ipython3",
   "version": "3.12.2"
  }
 },
 "nbformat": 4,
 "nbformat_minor": 2
}
